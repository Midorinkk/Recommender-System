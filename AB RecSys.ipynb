{
 "cells": [
  {
   "cell_type": "markdown",
   "id": "85a702e9",
   "metadata": {},
   "source": [
    "# Библиотеки\n",
    "\n",
    "Импортируем всё, что понадобится в решении"
   ]
  },
  {
   "cell_type": "code",
   "execution_count": 1,
   "id": "1ff6f3b6",
   "metadata": {},
   "outputs": [],
   "source": [
    "import pandas as pd\n",
    "import numpy as np\n",
    "\n",
    "import hashlib\n",
    "\n",
    "import datetime\n",
    "\n",
    "import matplotlib.pyplot as plt\n",
    "\n",
    "from statsmodels.stats.proportion import proportions_ztest\n",
    "from scipy.stats import mannwhitneyu\n",
    "\n",
    "import warnings\n",
    "warnings.filterwarnings('ignore')"
   ]
  },
  {
   "cell_type": "markdown",
   "id": "d20d366f",
   "metadata": {},
   "source": [
    "# Разделение пользователей на группы для A/B теста\n",
    "\n",
    "Разобьём пользователей на контрольную и тестовую группы. Для стратификации выборки и воспроизводимости результатов будем применять к `user_id` `md5` хэш из библиотеки `hashlib` с некоторой солью"
   ]
  },
  {
   "cell_type": "code",
   "execution_count": 2,
   "id": "a5614f4a",
   "metadata": {},
   "outputs": [
    {
     "data": {
      "text/html": [
       "<div>\n",
       "<style scoped>\n",
       "    .dataframe tbody tr th:only-of-type {\n",
       "        vertical-align: middle;\n",
       "    }\n",
       "\n",
       "    .dataframe tbody tr th {\n",
       "        vertical-align: top;\n",
       "    }\n",
       "\n",
       "    .dataframe thead th {\n",
       "        text-align: right;\n",
       "    }\n",
       "</style>\n",
       "<table border=\"1\" class=\"dataframe\">\n",
       "  <thead>\n",
       "    <tr style=\"text-align: right;\">\n",
       "      <th></th>\n",
       "      <th>user_id</th>\n",
       "      <th>gender</th>\n",
       "      <th>age</th>\n",
       "      <th>country</th>\n",
       "      <th>city</th>\n",
       "      <th>exp_group</th>\n",
       "      <th>os</th>\n",
       "      <th>source</th>\n",
       "    </tr>\n",
       "  </thead>\n",
       "  <tbody>\n",
       "    <tr>\n",
       "      <th>0</th>\n",
       "      <td>200</td>\n",
       "      <td>1</td>\n",
       "      <td>34</td>\n",
       "      <td>Russia</td>\n",
       "      <td>Degtyarsk</td>\n",
       "      <td>3</td>\n",
       "      <td>Android</td>\n",
       "      <td>ads</td>\n",
       "    </tr>\n",
       "    <tr>\n",
       "      <th>1</th>\n",
       "      <td>201</td>\n",
       "      <td>0</td>\n",
       "      <td>37</td>\n",
       "      <td>Russia</td>\n",
       "      <td>Abakan</td>\n",
       "      <td>0</td>\n",
       "      <td>Android</td>\n",
       "      <td>ads</td>\n",
       "    </tr>\n",
       "    <tr>\n",
       "      <th>2</th>\n",
       "      <td>202</td>\n",
       "      <td>1</td>\n",
       "      <td>17</td>\n",
       "      <td>Russia</td>\n",
       "      <td>Smolensk</td>\n",
       "      <td>4</td>\n",
       "      <td>Android</td>\n",
       "      <td>ads</td>\n",
       "    </tr>\n",
       "    <tr>\n",
       "      <th>3</th>\n",
       "      <td>203</td>\n",
       "      <td>0</td>\n",
       "      <td>18</td>\n",
       "      <td>Russia</td>\n",
       "      <td>Moscow</td>\n",
       "      <td>1</td>\n",
       "      <td>iOS</td>\n",
       "      <td>ads</td>\n",
       "    </tr>\n",
       "    <tr>\n",
       "      <th>4</th>\n",
       "      <td>204</td>\n",
       "      <td>0</td>\n",
       "      <td>36</td>\n",
       "      <td>Russia</td>\n",
       "      <td>Anzhero-Sudzhensk</td>\n",
       "      <td>3</td>\n",
       "      <td>Android</td>\n",
       "      <td>ads</td>\n",
       "    </tr>\n",
       "  </tbody>\n",
       "</table>\n",
       "</div>"
      ],
      "text/plain": [
       "   user_id  gender  age country               city  exp_group       os source\n",
       "0      200       1   34  Russia          Degtyarsk          3  Android    ads\n",
       "1      201       0   37  Russia             Abakan          0  Android    ads\n",
       "2      202       1   17  Russia           Smolensk          4  Android    ads\n",
       "3      203       0   18  Russia             Moscow          1      iOS    ads\n",
       "4      204       0   36  Russia  Anzhero-Sudzhensk          3  Android    ads"
      ]
     },
     "execution_count": 2,
     "metadata": {},
     "output_type": "execute_result"
    }
   ],
   "source": [
    "users = pd.read_sql(\n",
    "    \"\"\"\n",
    "SELECT * FROM public.user_data\n",
    "    \"\"\",\n",
    "    con=\"*****\"\n",
    ")\n",
    "\n",
    "users.head()"
   ]
  },
  {
   "cell_type": "code",
   "execution_count": 3,
   "id": "3960cc14",
   "metadata": {},
   "outputs": [],
   "source": [
    "salt = 'AB_test_RecSys'\n",
    "num_groups = 2\n",
    "\n",
    "users['group'] = users['user_id'].apply(lambda x:(int(hashlib.md5((str(x) + salt).encode()).hexdigest(), 16)) % num_groups)"
   ]
  },
  {
   "cell_type": "code",
   "execution_count": 4,
   "id": "22f38253",
   "metadata": {},
   "outputs": [
    {
     "data": {
      "text/html": [
       "<div>\n",
       "<style scoped>\n",
       "    .dataframe tbody tr th:only-of-type {\n",
       "        vertical-align: middle;\n",
       "    }\n",
       "\n",
       "    .dataframe tbody tr th {\n",
       "        vertical-align: top;\n",
       "    }\n",
       "\n",
       "    .dataframe thead th {\n",
       "        text-align: right;\n",
       "    }\n",
       "</style>\n",
       "<table border=\"1\" class=\"dataframe\">\n",
       "  <thead>\n",
       "    <tr style=\"text-align: right;\">\n",
       "      <th></th>\n",
       "      <th>user_id</th>\n",
       "      <th>gender</th>\n",
       "      <th>age</th>\n",
       "      <th>country</th>\n",
       "      <th>city</th>\n",
       "      <th>exp_group</th>\n",
       "      <th>os</th>\n",
       "      <th>source</th>\n",
       "      <th>group</th>\n",
       "    </tr>\n",
       "  </thead>\n",
       "  <tbody>\n",
       "    <tr>\n",
       "      <th>0</th>\n",
       "      <td>200</td>\n",
       "      <td>1</td>\n",
       "      <td>34</td>\n",
       "      <td>Russia</td>\n",
       "      <td>Degtyarsk</td>\n",
       "      <td>3</td>\n",
       "      <td>Android</td>\n",
       "      <td>ads</td>\n",
       "      <td>0</td>\n",
       "    </tr>\n",
       "    <tr>\n",
       "      <th>1</th>\n",
       "      <td>201</td>\n",
       "      <td>0</td>\n",
       "      <td>37</td>\n",
       "      <td>Russia</td>\n",
       "      <td>Abakan</td>\n",
       "      <td>0</td>\n",
       "      <td>Android</td>\n",
       "      <td>ads</td>\n",
       "      <td>0</td>\n",
       "    </tr>\n",
       "    <tr>\n",
       "      <th>2</th>\n",
       "      <td>202</td>\n",
       "      <td>1</td>\n",
       "      <td>17</td>\n",
       "      <td>Russia</td>\n",
       "      <td>Smolensk</td>\n",
       "      <td>4</td>\n",
       "      <td>Android</td>\n",
       "      <td>ads</td>\n",
       "      <td>1</td>\n",
       "    </tr>\n",
       "    <tr>\n",
       "      <th>3</th>\n",
       "      <td>203</td>\n",
       "      <td>0</td>\n",
       "      <td>18</td>\n",
       "      <td>Russia</td>\n",
       "      <td>Moscow</td>\n",
       "      <td>1</td>\n",
       "      <td>iOS</td>\n",
       "      <td>ads</td>\n",
       "      <td>0</td>\n",
       "    </tr>\n",
       "    <tr>\n",
       "      <th>4</th>\n",
       "      <td>204</td>\n",
       "      <td>0</td>\n",
       "      <td>36</td>\n",
       "      <td>Russia</td>\n",
       "      <td>Anzhero-Sudzhensk</td>\n",
       "      <td>3</td>\n",
       "      <td>Android</td>\n",
       "      <td>ads</td>\n",
       "      <td>0</td>\n",
       "    </tr>\n",
       "  </tbody>\n",
       "</table>\n",
       "</div>"
      ],
      "text/plain": [
       "   user_id  gender  age country               city  exp_group       os source  \\\n",
       "0      200       1   34  Russia          Degtyarsk          3  Android    ads   \n",
       "1      201       0   37  Russia             Abakan          0  Android    ads   \n",
       "2      202       1   17  Russia           Smolensk          4  Android    ads   \n",
       "3      203       0   18  Russia             Moscow          1      iOS    ads   \n",
       "4      204       0   36  Russia  Anzhero-Sudzhensk          3  Android    ads   \n",
       "\n",
       "   group  \n",
       "0      0  \n",
       "1      0  \n",
       "2      1  \n",
       "3      0  \n",
       "4      0  "
      ]
     },
     "execution_count": 4,
     "metadata": {},
     "output_type": "execute_result"
    }
   ],
   "source": [
    "users.head()"
   ]
  },
  {
   "cell_type": "markdown",
   "id": "48b9254b",
   "metadata": {},
   "source": [
    "### Проверка равномерности разделения\n",
    "\n",
    "Для начала проверим, нет ли пользователей, попавших одновременно в обе группы или не попавших вообще"
   ]
  },
  {
   "cell_type": "code",
   "execution_count": 5,
   "id": "2c23327a",
   "metadata": {},
   "outputs": [
    {
     "data": {
      "text/plain": [
       "user_id\n",
       "200       1\n",
       "114129    1\n",
       "114130    1\n",
       "114131    1\n",
       "114132    1\n",
       "         ..\n",
       "58121     1\n",
       "58122     1\n",
       "58123     1\n",
       "58116     1\n",
       "168552    1\n",
       "Name: group, Length: 163205, dtype: int64"
      ]
     },
     "execution_count": 5,
     "metadata": {},
     "output_type": "execute_result"
    }
   ],
   "source": [
    "users.groupby('user_id')['group'].nunique().sort_values()"
   ]
  },
  {
   "cell_type": "markdown",
   "id": "febd73eb",
   "metadata": {},
   "source": [
    "Как видим, каждый пользователь попал в одну из групп.\n",
    "\n",
    "Теперь посчитаем долю контрольной и тестовой группы. Мы хотим добиться разбиения примерно 50/50"
   ]
  },
  {
   "cell_type": "code",
   "execution_count": 6,
   "id": "c12dc664",
   "metadata": {},
   "outputs": [
    {
     "name": "stdout",
     "output_type": "stream",
     "text": [
      "Доля контрольной группы: 0.4967617413682179, доля тестовой: 0.5032382586317821\n"
     ]
    }
   ],
   "source": [
    "test_part = users[users['group'] == 0]['user_id'].count() / users.shape[0]\n",
    "control_part = users[users['group'] == 1]['user_id'].count() / users.shape[0]\n",
    "\n",
    "print(f'Доля контрольной группы: {control_part}, доля тестовой: {test_part}')"
   ]
  },
  {
   "cell_type": "markdown",
   "id": "f173f200",
   "metadata": {},
   "source": [
    "Видим, что с процентным соотношением групп всё в порядке. Теперь проверим их стратифицированность."
   ]
  },
  {
   "cell_type": "code",
   "execution_count": 7,
   "id": "6800aeca",
   "metadata": {},
   "outputs": [
    {
     "data": {
      "image/png": "[encoded data removed]",
      "text/plain": [
       "<Figure size 1080x1080 with 10 Axes>"
      ]
     },
     "metadata": {
      "needs_background": "light"
     },
     "output_type": "display_data"
    }
   ],
   "source": [
    "cols = ['gender', 'age', 'exp_group', 'os', 'source']\n",
    "\n",
    "fig, axs = plt.subplots(len(cols), 2)\n",
    "fig.set_size_inches(15, 15)\n",
    "\n",
    "for i in range(len(cols)):\n",
    "    for j in range(2):\n",
    "        axs[i, j].hist(users[users['group'] == j][cols[i]])\n",
    "        axs[i, j].set_title(cols[i] + str(j))\n",
    "fig.tight_layout()"
   ]
  },
  {
   "cell_type": "markdown",
   "id": "5776fbb7",
   "metadata": {},
   "source": [
    "Получили достаточно схожие распределения по категориям для контрольной и тестовой групп."
   ]
  },
  {
   "cell_type": "markdown",
   "id": "5efe7206",
   "metadata": {},
   "source": [
    "# Обработка результатов"
   ]
  },
  {
   "cell_type": "markdown",
   "id": "35a9ac28",
   "metadata": {},
   "source": [
    "Представим, что мы проводили этот эксперимент на пользователях в течение 2 недель. В результаты мы получили 2 таблицы с сырыми данными:\n",
    "\n",
    "- **Ответы сервиса с рекомендациями** — в них мы знаем, какому пользователю что мы порекомендовали и в какую группу его отнесли. И, конечно, знаем момент времени, когда это произошло."
   ]
  },
  {
   "cell_type": "code",
   "execution_count": 8,
   "id": "b2a529d7",
   "metadata": {},
   "outputs": [
    {
     "data": {
      "text/html": [
       "<div>\n",
       "<style scoped>\n",
       "    .dataframe tbody tr th:only-of-type {\n",
       "        vertical-align: middle;\n",
       "    }\n",
       "\n",
       "    .dataframe tbody tr th {\n",
       "        vertical-align: top;\n",
       "    }\n",
       "\n",
       "    .dataframe thead th {\n",
       "        text-align: right;\n",
       "    }\n",
       "</style>\n",
       "<table border=\"1\" class=\"dataframe\">\n",
       "  <thead>\n",
       "    <tr style=\"text-align: right;\">\n",
       "      <th></th>\n",
       "      <th>user_id</th>\n",
       "      <th>exp_group</th>\n",
       "      <th>recommendations</th>\n",
       "      <th>timestamp</th>\n",
       "    </tr>\n",
       "  </thead>\n",
       "  <tbody>\n",
       "    <tr>\n",
       "      <th>0</th>\n",
       "      <td>128381</td>\n",
       "      <td>control</td>\n",
       "      <td>[3644 4529 4704 5294 4808]</td>\n",
       "      <td>1654030803</td>\n",
       "    </tr>\n",
       "    <tr>\n",
       "      <th>1</th>\n",
       "      <td>146885</td>\n",
       "      <td>test</td>\n",
       "      <td>[1399 1076  797 7015 5942]</td>\n",
       "      <td>1654030811</td>\n",
       "    </tr>\n",
       "    <tr>\n",
       "      <th>2</th>\n",
       "      <td>50948</td>\n",
       "      <td>test</td>\n",
       "      <td>[2315 3037 1861 6567 4093]</td>\n",
       "      <td>1654030825</td>\n",
       "    </tr>\n",
       "    <tr>\n",
       "      <th>3</th>\n",
       "      <td>37703</td>\n",
       "      <td>test</td>\n",
       "      <td>[2842 1949  162 1588 6794]</td>\n",
       "      <td>1654030826</td>\n",
       "    </tr>\n",
       "    <tr>\n",
       "      <th>4</th>\n",
       "      <td>14661</td>\n",
       "      <td>test</td>\n",
       "      <td>[2395 5881 5648 3417  673]</td>\n",
       "      <td>1654030829</td>\n",
       "    </tr>\n",
       "  </tbody>\n",
       "</table>\n",
       "</div>"
      ],
      "text/plain": [
       "   user_id exp_group             recommendations   timestamp\n",
       "0   128381   control  [3644 4529 4704 5294 4808]  1654030803\n",
       "1   146885      test  [1399 1076  797 7015 5942]  1654030811\n",
       "2    50948      test  [2315 3037 1861 6567 4093]  1654030825\n",
       "3    37703      test  [2842 1949  162 1588 6794]  1654030826\n",
       "4    14661      test  [2395 5881 5648 3417  673]  1654030829"
      ]
     },
     "execution_count": 8,
     "metadata": {},
     "output_type": "execute_result"
    }
   ],
   "source": [
    "path = 'C://Users/Manzzz/PROJECTS/Karpov/Stats/AB/'\n",
    "\n",
    "views = pd.read_csv(path + 'views.csv')\n",
    "views.head()"
   ]
  },
  {
   "cell_type": "code",
   "execution_count": 9,
   "id": "68f422d6",
   "metadata": {},
   "outputs": [
    {
     "data": {
      "text/plain": [
       "(193295, 4)"
      ]
     },
     "execution_count": 9,
     "metadata": {},
     "output_type": "execute_result"
    }
   ],
   "source": [
    "views.shape"
   ]
  },
  {
   "cell_type": "markdown",
   "id": "697dd0cf",
   "metadata": {},
   "source": [
    "- **Данные о лайках** — в них мы знаем, какой пользователь и какой пост лайкнул, в том числе момент времени, когда это произошло."
   ]
  },
  {
   "cell_type": "code",
   "execution_count": 10,
   "id": "3ebf8a4f",
   "metadata": {},
   "outputs": [
    {
     "data": {
      "text/html": [
       "<div>\n",
       "<style scoped>\n",
       "    .dataframe tbody tr th:only-of-type {\n",
       "        vertical-align: middle;\n",
       "    }\n",
       "\n",
       "    .dataframe tbody tr th {\n",
       "        vertical-align: top;\n",
       "    }\n",
       "\n",
       "    .dataframe thead th {\n",
       "        text-align: right;\n",
       "    }\n",
       "</style>\n",
       "<table border=\"1\" class=\"dataframe\">\n",
       "  <thead>\n",
       "    <tr style=\"text-align: right;\">\n",
       "      <th></th>\n",
       "      <th>user_id</th>\n",
       "      <th>post_id</th>\n",
       "      <th>timestamp</th>\n",
       "    </tr>\n",
       "  </thead>\n",
       "  <tbody>\n",
       "    <tr>\n",
       "      <th>0</th>\n",
       "      <td>128381</td>\n",
       "      <td>4704</td>\n",
       "      <td>1654030804</td>\n",
       "    </tr>\n",
       "    <tr>\n",
       "      <th>1</th>\n",
       "      <td>146885</td>\n",
       "      <td>1399</td>\n",
       "      <td>1654030816</td>\n",
       "    </tr>\n",
       "    <tr>\n",
       "      <th>2</th>\n",
       "      <td>50948</td>\n",
       "      <td>2315</td>\n",
       "      <td>1654030828</td>\n",
       "    </tr>\n",
       "    <tr>\n",
       "      <th>3</th>\n",
       "      <td>14661</td>\n",
       "      <td>673</td>\n",
       "      <td>1654030831</td>\n",
       "    </tr>\n",
       "    <tr>\n",
       "      <th>4</th>\n",
       "      <td>37703</td>\n",
       "      <td>1588</td>\n",
       "      <td>1654030833</td>\n",
       "    </tr>\n",
       "  </tbody>\n",
       "</table>\n",
       "</div>"
      ],
      "text/plain": [
       "   user_id  post_id   timestamp\n",
       "0   128381     4704  1654030804\n",
       "1   146885     1399  1654030816\n",
       "2    50948     2315  1654030828\n",
       "3    14661      673  1654030831\n",
       "4    37703     1588  1654030833"
      ]
     },
     "execution_count": 10,
     "metadata": {},
     "output_type": "execute_result"
    }
   ],
   "source": [
    "likes = pd.read_csv(path + 'likes.csv')\n",
    "\n",
    "likes.head()"
   ]
  },
  {
   "cell_type": "code",
   "execution_count": 11,
   "id": "5a1b686b",
   "metadata": {},
   "outputs": [
    {
     "data": {
      "text/plain": [
       "(230176, 3)"
      ]
     },
     "execution_count": 11,
     "metadata": {},
     "output_type": "execute_result"
    }
   ],
   "source": [
    "likes.shape"
   ]
  },
  {
   "cell_type": "markdown",
   "id": "dbbf0b4e",
   "metadata": {},
   "source": [
    "К сожалению, данные разбиты на разные таблицы, что усложняет процесс анализа. У нас есть отдельный лог того, что происходило с точки зрения рекомендаций, а действия пользователя происходят отдельно спустя некоторое время. В итоге нет универсального идентификатора, по которому можно сопоставить показанные рекомендации и лайки. Так что придётся придумывать разные подходы."
   ]
  },
  {
   "cell_type": "markdown",
   "id": "622ff04f",
   "metadata": {},
   "source": [
    "Для начала посмотрим на две метрики: **доля пользователей хотя бы с одним лайком** и **число лайков на пользователя**. Две эти метрики по смыслу похожи и скорее всего коррелируют. Ответим по нии на вопрос, стали ли пользователи в тестовой группе ставить больше лайков.\n",
    "\n",
    "Сначала посчитаем, сколько лайков поставил каждый пользователь за время эксперимента. Эта таблица пригодится для подсчёта обеих метрик"
   ]
  },
  {
   "cell_type": "code",
   "execution_count": 12,
   "id": "7b586cc5",
   "metadata": {},
   "outputs": [
    {
     "data": {
      "text/html": [
       "<div>\n",
       "<style scoped>\n",
       "    .dataframe tbody tr th:only-of-type {\n",
       "        vertical-align: middle;\n",
       "    }\n",
       "\n",
       "    .dataframe tbody tr th {\n",
       "        vertical-align: top;\n",
       "    }\n",
       "\n",
       "    .dataframe thead th {\n",
       "        text-align: right;\n",
       "    }\n",
       "</style>\n",
       "<table border=\"1\" class=\"dataframe\">\n",
       "  <thead>\n",
       "    <tr style=\"text-align: right;\">\n",
       "      <th></th>\n",
       "      <th>user_id</th>\n",
       "      <th>likes_num</th>\n",
       "    </tr>\n",
       "  </thead>\n",
       "  <tbody>\n",
       "    <tr>\n",
       "      <th>0</th>\n",
       "      <td>200</td>\n",
       "      <td>1</td>\n",
       "    </tr>\n",
       "    <tr>\n",
       "      <th>1</th>\n",
       "      <td>201</td>\n",
       "      <td>3</td>\n",
       "    </tr>\n",
       "    <tr>\n",
       "      <th>2</th>\n",
       "      <td>202</td>\n",
       "      <td>2</td>\n",
       "    </tr>\n",
       "    <tr>\n",
       "      <th>3</th>\n",
       "      <td>212</td>\n",
       "      <td>4</td>\n",
       "    </tr>\n",
       "    <tr>\n",
       "      <th>4</th>\n",
       "      <td>213</td>\n",
       "      <td>7</td>\n",
       "    </tr>\n",
       "  </tbody>\n",
       "</table>\n",
       "</div>"
      ],
      "text/plain": [
       "   user_id  likes_num\n",
       "0      200          1\n",
       "1      201          3\n",
       "2      202          2\n",
       "3      212          4\n",
       "4      213          7"
      ]
     },
     "execution_count": 12,
     "metadata": {},
     "output_type": "execute_result"
    }
   ],
   "source": [
    "likes_num = likes.groupby('user_id')['post_id'].count().reset_index(name='likes_num')\n",
    "\n",
    "likes_num.head()"
   ]
  },
  {
   "cell_type": "markdown",
   "id": "c212f51e",
   "metadata": {},
   "source": [
    "Далее отделим друг от друга лайки пользователей из контрольной и тестовой группы."
   ]
  },
  {
   "cell_type": "code",
   "execution_count": 13,
   "id": "a8a2caa4",
   "metadata": {},
   "outputs": [],
   "source": [
    "control_users = views[views['exp_group'] == 'control']['user_id'].unique()\n",
    "test_users = views[views['exp_group'] == 'test']['user_id'].unique()\n",
    "\n",
    "control_likes = likes_num[likes_num['user_id'].isin(control_users)]\n",
    "test_likes = likes_num[likes_num['user_id'].isin(test_users)]"
   ]
  },
  {
   "cell_type": "markdown",
   "id": "6904ef32",
   "metadata": {},
   "source": [
    "- **Доля пользователей с хотя бы одним лайком**"
   ]
  },
  {
   "cell_type": "markdown",
   "id": "37a02d66",
   "metadata": {},
   "source": [
    "В таблицу `likes_num` попали только пользователи, поставившие хотя бы один лайк (так как в исходной таблице `likes` были только такие). Поэтому количество таких пользователей в обеих группах ловольно легко посчитать"
   ]
  },
  {
   "cell_type": "code",
   "execution_count": 14,
   "id": "ba130431",
   "metadata": {},
   "outputs": [],
   "source": [
    "N_pos_control = control_likes.shape[0]\n",
    "N_pos_test = test_likes.shape[0]"
   ]
  },
  {
   "cell_type": "markdown",
   "id": "ff8fe132",
   "metadata": {},
   "source": [
    "Применим z-тест для долей, чтобы проверить, значимо ли различие между группами. Зафиксируем уровень значимости $\\alpha=0.05$."
   ]
  },
  {
   "cell_type": "code",
   "execution_count": 15,
   "id": "eca4bed2",
   "metadata": {},
   "outputs": [
    {
     "data": {
      "text/plain": [
       "(-2.843953164563546, 0.004455759704473447)"
      ]
     },
     "execution_count": 15,
     "metadata": {},
     "output_type": "execute_result"
    }
   ],
   "source": [
    "N_control = control_users.shape[0]\n",
    "N_test = test_users.shape[0]\n",
    "\n",
    "proportions_ztest(count=[N_pos_control, N_pos_test], \n",
    "                  nobs=[N_control, N_test], \n",
    "                  alternative='two-sided')"
   ]
  },
  {
   "cell_type": "markdown",
   "id": "bc5edcb2",
   "metadata": {},
   "source": [
    "Получили значение p-value $\\approx 0.0045 < \\alpha$, поэтому можем отклонить нулевую гипотезу о равенстве долей пользователей с хотя бы одним лайком в двух генеральных совокупностях"
   ]
  },
  {
   "cell_type": "code",
   "execution_count": 16,
   "id": "1bfdb1bc",
   "metadata": {},
   "outputs": [
    {
     "data": {
      "text/plain": [
       "(0.8913271929282315, 0.8981722438232863)"
      ]
     },
     "execution_count": 16,
     "metadata": {},
     "output_type": "execute_result"
    }
   ],
   "source": [
    "N_pos_control / N_control, N_pos_test / N_test"
   ]
  },
  {
   "cell_type": "markdown",
   "id": "e5019e63",
   "metadata": {},
   "source": [
    "Установили, что в тестовой группе наблюдается статистически значимое увеличение доли пользователей с хотя бы одним лайком"
   ]
  },
  {
   "cell_type": "markdown",
   "id": "8915fa80",
   "metadata": {},
   "source": [
    "- **Число лайков на пользователя**\n",
    "\n",
    "Сформируем выборки количества лайков для каждой группы"
   ]
  },
  {
   "cell_type": "code",
   "execution_count": 17,
   "id": "af92046d",
   "metadata": {},
   "outputs": [],
   "source": [
    "control_num = control_likes['likes_num'].values\n",
    "test_num = test_likes['likes_num'].values"
   ]
  },
  {
   "cell_type": "markdown",
   "id": "0fb25807",
   "metadata": {},
   "source": [
    "В качестве статистического критерия используем критерий Манна-Уитни-Уилкоксона"
   ]
  },
  {
   "cell_type": "code",
   "execution_count": 18,
   "id": "867b486f",
   "metadata": {},
   "outputs": [
    {
     "data": {
      "text/plain": [
       "MannwhitneyuResult(statistic=416725715.0, pvalue=0.0016864252455297607)"
      ]
     },
     "execution_count": 18,
     "metadata": {},
     "output_type": "execute_result"
    }
   ],
   "source": [
    "mannwhitneyu(control_num, test_num, alternative='two-sided')"
   ]
  },
  {
   "cell_type": "markdown",
   "id": "f8426c72",
   "metadata": {},
   "source": [
    "Получили значение p-value < $\\alpha$, поэтому отвергаем нулевую гипотезу о принадлежности выборок одной генеральной совокупности"
   ]
  },
  {
   "cell_type": "code",
   "execution_count": 19,
   "id": "e6c3d216",
   "metadata": {},
   "outputs": [
    {
     "data": {
      "text/plain": [
       "(3.9131007698176017, 4.000715819613458)"
      ]
     },
     "execution_count": 19,
     "metadata": {},
     "output_type": "execute_result"
    }
   ],
   "source": [
    "control_num.mean(), test_num.mean()"
   ]
  },
  {
   "cell_type": "markdown",
   "id": "199e2181",
   "metadata": {},
   "source": [
    "Видим, что среднее число лайков на пользователя больше в тестовой выборке.\n",
    "\n",
    "В итоге, можем заключить, что обе метрики в тестовой группе статистически значимо улучшились, то есть лайкать стали больше"
   ]
  },
  {
   "cell_type": "markdown",
   "id": "dec6be1c",
   "metadata": {},
   "source": [
    "## Hitrate\n",
    "\n",
    "Далее посчитаем hitrate, то есть долю рекомендаций, в которых был хотя бы один лайк. Сначала посчитаем общий hitrate без привязки к контрольной/тестовой группе, а затем уже проведём статистический тест.\n",
    "\n",
    "Главная проблема здесь $-$ отсутствие id показа, по которому мы бы могли сделать join таблиц `likes` и `views`.\n",
    "\n",
    "Для решения этой проблемы сначала соберём в общую таблицу все показы и лайки по каждому пользователю, а затем уже будем фильтровать, относился ли лайк к показу этих рекомендаций или нет.\n",
    "\n",
    "При формировании общей таблицы стоит учитывать, что могли быть рекомендации без лайков, поэтому в конце нужно будет поделить на количество уникальных рекомендаций не в полученной таблице, а в исходной таблице `views`. Можно было бы учесть это с помощью left join, но полученные `NaN values` создадут проблему при работе с датой и временем. "
   ]
  },
  {
   "cell_type": "code",
   "execution_count": 20,
   "id": "b51019c6",
   "metadata": {
    "scrolled": true
   },
   "outputs": [
    {
     "data": {
      "text/html": [
       "<div>\n",
       "<style scoped>\n",
       "    .dataframe tbody tr th:only-of-type {\n",
       "        vertical-align: middle;\n",
       "    }\n",
       "\n",
       "    .dataframe tbody tr th {\n",
       "        vertical-align: top;\n",
       "    }\n",
       "\n",
       "    .dataframe thead th {\n",
       "        text-align: right;\n",
       "    }\n",
       "</style>\n",
       "<table border=\"1\" class=\"dataframe\">\n",
       "  <thead>\n",
       "    <tr style=\"text-align: right;\">\n",
       "      <th></th>\n",
       "      <th>user_id</th>\n",
       "      <th>exp_group</th>\n",
       "      <th>recommendations</th>\n",
       "      <th>timestamp_x</th>\n",
       "      <th>post_id</th>\n",
       "      <th>timestamp_y</th>\n",
       "    </tr>\n",
       "  </thead>\n",
       "  <tbody>\n",
       "    <tr>\n",
       "      <th>0</th>\n",
       "      <td>128381</td>\n",
       "      <td>control</td>\n",
       "      <td>[3644 4529 4704 5294 4808]</td>\n",
       "      <td>1654030803</td>\n",
       "      <td>4704</td>\n",
       "      <td>1654030804</td>\n",
       "    </tr>\n",
       "    <tr>\n",
       "      <th>1</th>\n",
       "      <td>128381</td>\n",
       "      <td>control</td>\n",
       "      <td>[3644 4529 4704 5294 4808]</td>\n",
       "      <td>1654030803</td>\n",
       "      <td>5294</td>\n",
       "      <td>1654030838</td>\n",
       "    </tr>\n",
       "    <tr>\n",
       "      <th>2</th>\n",
       "      <td>128381</td>\n",
       "      <td>control</td>\n",
       "      <td>[3644 4529 4704 5294 4808]</td>\n",
       "      <td>1654030803</td>\n",
       "      <td>3608</td>\n",
       "      <td>1655049327</td>\n",
       "    </tr>\n",
       "    <tr>\n",
       "      <th>3</th>\n",
       "      <td>128381</td>\n",
       "      <td>control</td>\n",
       "      <td>[3644 4529 4704 5294 4808]</td>\n",
       "      <td>1654030803</td>\n",
       "      <td>2542</td>\n",
       "      <td>1655049342</td>\n",
       "    </tr>\n",
       "    <tr>\n",
       "      <th>4</th>\n",
       "      <td>128381</td>\n",
       "      <td>control</td>\n",
       "      <td>[3644 4529 4704 5294 4808]</td>\n",
       "      <td>1654030803</td>\n",
       "      <td>4165</td>\n",
       "      <td>1655052806</td>\n",
       "    </tr>\n",
       "  </tbody>\n",
       "</table>\n",
       "</div>"
      ],
      "text/plain": [
       "   user_id exp_group             recommendations  timestamp_x  post_id  \\\n",
       "0   128381   control  [3644 4529 4704 5294 4808]   1654030803     4704   \n",
       "1   128381   control  [3644 4529 4704 5294 4808]   1654030803     5294   \n",
       "2   128381   control  [3644 4529 4704 5294 4808]   1654030803     3608   \n",
       "3   128381   control  [3644 4529 4704 5294 4808]   1654030803     2542   \n",
       "4   128381   control  [3644 4529 4704 5294 4808]   1654030803     4165   \n",
       "\n",
       "   timestamp_y  \n",
       "0   1654030804  \n",
       "1   1654030838  \n",
       "2   1655049327  \n",
       "3   1655049342  \n",
       "4   1655052806  "
      ]
     },
     "execution_count": 20,
     "metadata": {},
     "output_type": "execute_result"
    }
   ],
   "source": [
    "merged = pd.merge(views, likes, on='user_id')\n",
    "\n",
    "merged.head()"
   ]
  },
  {
   "cell_type": "markdown",
   "id": "262d19d4",
   "metadata": {},
   "source": [
    "Сначала проведём фильтрацию по времени. Наложим два условия:\n",
    "1. Лайк не должен предшествовать показу рекомендаций\n",
    "2. Лайк был совершён не сильно позже показа рекомендаций. В качестве порога отсечения возьмём 1 час\n",
    "\n",
    "Для удобства работы со временем переведём колонки `timestamp` в формат `datetime`"
   ]
  },
  {
   "cell_type": "code",
   "execution_count": 21,
   "id": "782238cd",
   "metadata": {
    "scrolled": true
   },
   "outputs": [
    {
     "data": {
      "text/html": [
       "<div>\n",
       "<style scoped>\n",
       "    .dataframe tbody tr th:only-of-type {\n",
       "        vertical-align: middle;\n",
       "    }\n",
       "\n",
       "    .dataframe tbody tr th {\n",
       "        vertical-align: top;\n",
       "    }\n",
       "\n",
       "    .dataframe thead th {\n",
       "        text-align: right;\n",
       "    }\n",
       "</style>\n",
       "<table border=\"1\" class=\"dataframe\">\n",
       "  <thead>\n",
       "    <tr style=\"text-align: right;\">\n",
       "      <th></th>\n",
       "      <th>user_id</th>\n",
       "      <th>exp_group</th>\n",
       "      <th>recommendations</th>\n",
       "      <th>post_id</th>\n",
       "      <th>datetime</th>\n",
       "      <th>datetime_likes</th>\n",
       "    </tr>\n",
       "  </thead>\n",
       "  <tbody>\n",
       "    <tr>\n",
       "      <th>0</th>\n",
       "      <td>128381</td>\n",
       "      <td>control</td>\n",
       "      <td>[3644 4529 4704 5294 4808]</td>\n",
       "      <td>4704</td>\n",
       "      <td>2022-06-01 00:00:03</td>\n",
       "      <td>2022-06-01 00:00:04</td>\n",
       "    </tr>\n",
       "    <tr>\n",
       "      <th>1</th>\n",
       "      <td>128381</td>\n",
       "      <td>control</td>\n",
       "      <td>[3644 4529 4704 5294 4808]</td>\n",
       "      <td>5294</td>\n",
       "      <td>2022-06-01 00:00:03</td>\n",
       "      <td>2022-06-01 00:00:38</td>\n",
       "    </tr>\n",
       "    <tr>\n",
       "      <th>2</th>\n",
       "      <td>128381</td>\n",
       "      <td>control</td>\n",
       "      <td>[3644 4529 4704 5294 4808]</td>\n",
       "      <td>3608</td>\n",
       "      <td>2022-06-01 00:00:03</td>\n",
       "      <td>2022-06-12 18:55:27</td>\n",
       "    </tr>\n",
       "    <tr>\n",
       "      <th>3</th>\n",
       "      <td>128381</td>\n",
       "      <td>control</td>\n",
       "      <td>[3644 4529 4704 5294 4808]</td>\n",
       "      <td>2542</td>\n",
       "      <td>2022-06-01 00:00:03</td>\n",
       "      <td>2022-06-12 18:55:42</td>\n",
       "    </tr>\n",
       "    <tr>\n",
       "      <th>4</th>\n",
       "      <td>128381</td>\n",
       "      <td>control</td>\n",
       "      <td>[3644 4529 4704 5294 4808]</td>\n",
       "      <td>4165</td>\n",
       "      <td>2022-06-01 00:00:03</td>\n",
       "      <td>2022-06-12 19:53:26</td>\n",
       "    </tr>\n",
       "  </tbody>\n",
       "</table>\n",
       "</div>"
      ],
      "text/plain": [
       "   user_id exp_group             recommendations  post_id            datetime  \\\n",
       "0   128381   control  [3644 4529 4704 5294 4808]     4704 2022-06-01 00:00:03   \n",
       "1   128381   control  [3644 4529 4704 5294 4808]     5294 2022-06-01 00:00:03   \n",
       "2   128381   control  [3644 4529 4704 5294 4808]     3608 2022-06-01 00:00:03   \n",
       "3   128381   control  [3644 4529 4704 5294 4808]     2542 2022-06-01 00:00:03   \n",
       "4   128381   control  [3644 4529 4704 5294 4808]     4165 2022-06-01 00:00:03   \n",
       "\n",
       "       datetime_likes  \n",
       "0 2022-06-01 00:00:04  \n",
       "1 2022-06-01 00:00:38  \n",
       "2 2022-06-12 18:55:27  \n",
       "3 2022-06-12 18:55:42  \n",
       "4 2022-06-12 19:53:26  "
      ]
     },
     "execution_count": 21,
     "metadata": {},
     "output_type": "execute_result"
    }
   ],
   "source": [
    "merged['datetime'] = merged['timestamp_x'].apply(lambda x: datetime.datetime.fromtimestamp(x))\n",
    "merged['datetime_likes'] = merged['timestamp_y'].apply(lambda x: datetime.datetime.fromtimestamp(x))\n",
    "\n",
    "merged = merged.drop(['timestamp_x', 'timestamp_y'], axis=1)\n",
    "\n",
    "merged.head()"
   ]
  },
  {
   "cell_type": "markdown",
   "id": "291d8ee4",
   "metadata": {},
   "source": [
    "Также будем следить за размерностью таблицы. В итоге должны получить что-то сопоставимое с размером исходной таблицы `views`"
   ]
  },
  {
   "cell_type": "code",
   "execution_count": 22,
   "id": "88566c12",
   "metadata": {},
   "outputs": [
    {
     "data": {
      "text/plain": [
       "((193295, 4), (1006642, 6))"
      ]
     },
     "execution_count": 22,
     "metadata": {},
     "output_type": "execute_result"
    }
   ],
   "source": [
    "views.shape, merged.shape"
   ]
  },
  {
   "cell_type": "markdown",
   "id": "4dd0bf7d",
   "metadata": {},
   "source": [
    "Отфильтруем данные по времени лайков и показа рекомендаций"
   ]
  },
  {
   "cell_type": "code",
   "execution_count": 23,
   "id": "f0209482",
   "metadata": {},
   "outputs": [
    {
     "data": {
      "text/plain": [
       "((193295, 4), (232518, 6))"
      ]
     },
     "execution_count": 23,
     "metadata": {},
     "output_type": "execute_result"
    }
   ],
   "source": [
    "merged = merged[(merged['datetime_likes'] > merged['datetime']) & \n",
    "                (merged['datetime'] + datetime.timedelta(hours=1) >= merged['datetime_likes'])]\n",
    "\n",
    "views.shape, merged.shape"
   ]
  },
  {
   "cell_type": "markdown",
   "id": "860e50cc",
   "metadata": {},
   "source": [
    "Уже получили сопоставимые размеры таблиц, но ещё, помимо фильтрации по времени, нужно посмотреть, был ли пост, на который поставили лайк, в наших рекомендациях. Для этого сначала переведём значения в колонке `recommendations` в списки"
   ]
  },
  {
   "cell_type": "code",
   "execution_count": 24,
   "id": "51137c56",
   "metadata": {
    "scrolled": false
   },
   "outputs": [
    {
     "data": {
      "text/html": [
       "<div>\n",
       "<style scoped>\n",
       "    .dataframe tbody tr th:only-of-type {\n",
       "        vertical-align: middle;\n",
       "    }\n",
       "\n",
       "    .dataframe tbody tr th {\n",
       "        vertical-align: top;\n",
       "    }\n",
       "\n",
       "    .dataframe thead th {\n",
       "        text-align: right;\n",
       "    }\n",
       "</style>\n",
       "<table border=\"1\" class=\"dataframe\">\n",
       "  <thead>\n",
       "    <tr style=\"text-align: right;\">\n",
       "      <th></th>\n",
       "      <th>user_id</th>\n",
       "      <th>exp_group</th>\n",
       "      <th>recommendations</th>\n",
       "      <th>post_id</th>\n",
       "      <th>datetime</th>\n",
       "      <th>datetime_likes</th>\n",
       "    </tr>\n",
       "  </thead>\n",
       "  <tbody>\n",
       "    <tr>\n",
       "      <th>0</th>\n",
       "      <td>128381</td>\n",
       "      <td>control</td>\n",
       "      <td>[3644, 4529, 4704, 5294, 4808]</td>\n",
       "      <td>4704</td>\n",
       "      <td>2022-06-01 00:00:03</td>\n",
       "      <td>2022-06-01 00:00:04</td>\n",
       "    </tr>\n",
       "    <tr>\n",
       "      <th>1</th>\n",
       "      <td>128381</td>\n",
       "      <td>control</td>\n",
       "      <td>[3644, 4529, 4704, 5294, 4808]</td>\n",
       "      <td>5294</td>\n",
       "      <td>2022-06-01 00:00:03</td>\n",
       "      <td>2022-06-01 00:00:38</td>\n",
       "    </tr>\n",
       "    <tr>\n",
       "      <th>16</th>\n",
       "      <td>128381</td>\n",
       "      <td>control</td>\n",
       "      <td>[3029, 3608, 2542, 4165, 3490]</td>\n",
       "      <td>3608</td>\n",
       "      <td>2022-06-12 18:55:26</td>\n",
       "      <td>2022-06-12 18:55:27</td>\n",
       "    </tr>\n",
       "    <tr>\n",
       "      <th>17</th>\n",
       "      <td>128381</td>\n",
       "      <td>control</td>\n",
       "      <td>[3029, 3608, 2542, 4165, 3490]</td>\n",
       "      <td>2542</td>\n",
       "      <td>2022-06-12 18:55:26</td>\n",
       "      <td>2022-06-12 18:55:42</td>\n",
       "    </tr>\n",
       "    <tr>\n",
       "      <th>18</th>\n",
       "      <td>128381</td>\n",
       "      <td>control</td>\n",
       "      <td>[3029, 3608, 2542, 4165, 3490]</td>\n",
       "      <td>4165</td>\n",
       "      <td>2022-06-12 18:55:26</td>\n",
       "      <td>2022-06-12 19:53:26</td>\n",
       "    </tr>\n",
       "  </tbody>\n",
       "</table>\n",
       "</div>"
      ],
      "text/plain": [
       "    user_id exp_group                 recommendations  post_id  \\\n",
       "0    128381   control  [3644, 4529, 4704, 5294, 4808]     4704   \n",
       "1    128381   control  [3644, 4529, 4704, 5294, 4808]     5294   \n",
       "16   128381   control  [3029, 3608, 2542, 4165, 3490]     3608   \n",
       "17   128381   control  [3029, 3608, 2542, 4165, 3490]     2542   \n",
       "18   128381   control  [3029, 3608, 2542, 4165, 3490]     4165   \n",
       "\n",
       "              datetime      datetime_likes  \n",
       "0  2022-06-01 00:00:03 2022-06-01 00:00:04  \n",
       "1  2022-06-01 00:00:03 2022-06-01 00:00:38  \n",
       "16 2022-06-12 18:55:26 2022-06-12 18:55:27  \n",
       "17 2022-06-12 18:55:26 2022-06-12 18:55:42  \n",
       "18 2022-06-12 18:55:26 2022-06-12 19:53:26  "
      ]
     },
     "execution_count": 24,
     "metadata": {},
     "output_type": "execute_result"
    }
   ],
   "source": [
    "merged['recommendations'] = merged['recommendations'].apply(lambda x: x[1:-1].split())\n",
    "\n",
    "merged.head()"
   ]
  },
  {
   "cell_type": "markdown",
   "id": "58383d69",
   "metadata": {},
   "source": [
    "Для того, чтобы корректно проверять, был ли пост в рекоммендациях, приведём значения в колонке `post_id` к строковому типу"
   ]
  },
  {
   "cell_type": "code",
   "execution_count": 25,
   "id": "54fd7553",
   "metadata": {},
   "outputs": [],
   "source": [
    "merged['post_id'] = merged['post_id'].astype(str)"
   ]
  },
  {
   "cell_type": "code",
   "execution_count": 26,
   "id": "c87bb298",
   "metadata": {},
   "outputs": [
    {
     "data": {
      "text/plain": [
       "((193295, 4), (230178, 6))"
      ]
     },
     "execution_count": 26,
     "metadata": {},
     "output_type": "execute_result"
    }
   ],
   "source": [
    "merged = merged[merged.apply(lambda x: x['post_id'] in x['recommendations'], axis=1)]\n",
    "\n",
    "views.shape, merged.shape"
   ]
  },
  {
   "cell_type": "markdown",
   "id": "fd7b3ea3",
   "metadata": {},
   "source": [
    "Теперь посчитаем количество лайков в каждом показе рекомендаций (не забываем, что здесь только те показы, где был хотя бы один лайк). Для того, чтобы метод `groupby` отработал, нужно привести значения в колонке `recommendations` к строковому типу"
   ]
  },
  {
   "cell_type": "code",
   "execution_count": 27,
   "id": "44258e7f",
   "metadata": {},
   "outputs": [
    {
     "data": {
      "text/html": [
       "<div>\n",
       "<style scoped>\n",
       "    .dataframe tbody tr th:only-of-type {\n",
       "        vertical-align: middle;\n",
       "    }\n",
       "\n",
       "    .dataframe tbody tr th {\n",
       "        vertical-align: top;\n",
       "    }\n",
       "\n",
       "    .dataframe thead th {\n",
       "        text-align: right;\n",
       "    }\n",
       "</style>\n",
       "<table border=\"1\" class=\"dataframe\">\n",
       "  <thead>\n",
       "    <tr style=\"text-align: right;\">\n",
       "      <th></th>\n",
       "      <th>user_id</th>\n",
       "      <th>exp_group</th>\n",
       "      <th>recommendations</th>\n",
       "      <th>num_likes</th>\n",
       "    </tr>\n",
       "  </thead>\n",
       "  <tbody>\n",
       "    <tr>\n",
       "      <th>0</th>\n",
       "      <td>200</td>\n",
       "      <td>test</td>\n",
       "      <td>['5559', '5510', '4127', '5135', '1563']</td>\n",
       "      <td>1</td>\n",
       "    </tr>\n",
       "    <tr>\n",
       "      <th>1</th>\n",
       "      <td>201</td>\n",
       "      <td>test</td>\n",
       "      <td>['4962', '6881', '2631', '643', '6168']</td>\n",
       "      <td>2</td>\n",
       "    </tr>\n",
       "    <tr>\n",
       "      <th>2</th>\n",
       "      <td>201</td>\n",
       "      <td>test</td>\n",
       "      <td>['6167', '1905', '1134', '3401', '6068']</td>\n",
       "      <td>1</td>\n",
       "    </tr>\n",
       "    <tr>\n",
       "      <th>3</th>\n",
       "      <td>202</td>\n",
       "      <td>test</td>\n",
       "      <td>['727', '4873', '353', '1144', '1437']</td>\n",
       "      <td>2</td>\n",
       "    </tr>\n",
       "    <tr>\n",
       "      <th>4</th>\n",
       "      <td>212</td>\n",
       "      <td>test</td>\n",
       "      <td>['1707', '1264', '6486', '7268', '4541']</td>\n",
       "      <td>1</td>\n",
       "    </tr>\n",
       "  </tbody>\n",
       "</table>\n",
       "</div>"
      ],
      "text/plain": [
       "   user_id exp_group                           recommendations  num_likes\n",
       "0      200      test  ['5559', '5510', '4127', '5135', '1563']          1\n",
       "1      201      test   ['4962', '6881', '2631', '643', '6168']          2\n",
       "2      201      test  ['6167', '1905', '1134', '3401', '6068']          1\n",
       "3      202      test    ['727', '4873', '353', '1144', '1437']          2\n",
       "4      212      test  ['1707', '1264', '6486', '7268', '4541']          1"
      ]
     },
     "execution_count": 27,
     "metadata": {},
     "output_type": "execute_result"
    }
   ],
   "source": [
    "merged['recommendations'] = merged['recommendations'].astype(str)\n",
    "\n",
    "final = merged.groupby(['user_id', 'exp_group', 'recommendations'])['post_id'].count().reset_index(name='num_likes')\n",
    "\n",
    "final.head()"
   ]
  },
  {
   "cell_type": "markdown",
   "id": "c4196c38",
   "metadata": {},
   "source": [
    "Окончательно, посчитаем долю всех рекомендаций, где был хотя бы один лайк"
   ]
  },
  {
   "cell_type": "code",
   "execution_count": 28,
   "id": "c46f9e95",
   "metadata": {},
   "outputs": [
    {
     "name": "stdout",
     "output_type": "stream",
     "text": [
      "Доля рекомендаций, где был хотя бы один лайк = 0.71\n"
     ]
    }
   ],
   "source": [
    "print(f\"Доля рекомендаций, где был хотя бы один лайк = {round(final.shape[0] / views['recommendations'].nunique(), 2)}\")"
   ]
  },
  {
   "cell_type": "markdown",
   "id": "8e7170c1",
   "metadata": {},
   "source": [
    "## Оценка различий hitrate между группами\n",
    "\n",
    "Здесь мы не можем применить z-тест для долей, так как в каждой выборке один и тот же пользователь может встречаться несколько раз. Поэтому применим **бакетный подход**, то есть перейдём к группам пользователей, которые будем рассматривать в качестве метапользователей, и уже по ним оценим значимость.\n",
    "\n",
    "\n",
    "Для начала на всякий случай проверим, нет ли у нас в таблице `likes` пользователей, которым мы не давали рекомендации"
   ]
  },
  {
   "cell_type": "code",
   "execution_count": 29,
   "id": "3bd3c6a7",
   "metadata": {},
   "outputs": [
    {
     "data": {
      "text/html": [
       "<div>\n",
       "<style scoped>\n",
       "    .dataframe tbody tr th:only-of-type {\n",
       "        vertical-align: middle;\n",
       "    }\n",
       "\n",
       "    .dataframe tbody tr th {\n",
       "        vertical-align: top;\n",
       "    }\n",
       "\n",
       "    .dataframe thead th {\n",
       "        text-align: right;\n",
       "    }\n",
       "</style>\n",
       "<table border=\"1\" class=\"dataframe\">\n",
       "  <thead>\n",
       "    <tr style=\"text-align: right;\">\n",
       "      <th></th>\n",
       "      <th>user_id</th>\n",
       "      <th>post_id</th>\n",
       "      <th>timestamp</th>\n",
       "    </tr>\n",
       "  </thead>\n",
       "  <tbody>\n",
       "  </tbody>\n",
       "</table>\n",
       "</div>"
      ],
      "text/plain": [
       "Empty DataFrame\n",
       "Columns: [user_id, post_id, timestamp]\n",
       "Index: []"
      ]
     },
     "execution_count": 29,
     "metadata": {},
     "output_type": "execute_result"
    }
   ],
   "source": [
    "likes[~(likes['user_id'].isin(views['user_id'].unique()))]"
   ]
  },
  {
   "cell_type": "markdown",
   "id": "380a82ac",
   "metadata": {},
   "source": [
    "Как видим, с этим всё в порядке.\n",
    "\n",
    "Теперь для разбиения на бакеты применим к `user_id` из `views` `md5` хэш из `hashlib` с другой солью. Сделаем 100 бакетов"
   ]
  },
  {
   "cell_type": "code",
   "execution_count": 30,
   "id": "3ed2c080",
   "metadata": {
    "scrolled": true
   },
   "outputs": [
    {
     "data": {
      "text/html": [
       "<div>\n",
       "<style scoped>\n",
       "    .dataframe tbody tr th:only-of-type {\n",
       "        vertical-align: middle;\n",
       "    }\n",
       "\n",
       "    .dataframe tbody tr th {\n",
       "        vertical-align: top;\n",
       "    }\n",
       "\n",
       "    .dataframe thead th {\n",
       "        text-align: right;\n",
       "    }\n",
       "</style>\n",
       "<table border=\"1\" class=\"dataframe\">\n",
       "  <thead>\n",
       "    <tr style=\"text-align: right;\">\n",
       "      <th></th>\n",
       "      <th>user_id</th>\n",
       "      <th>exp_group</th>\n",
       "      <th>recommendations</th>\n",
       "      <th>timestamp</th>\n",
       "      <th>bucket</th>\n",
       "    </tr>\n",
       "  </thead>\n",
       "  <tbody>\n",
       "    <tr>\n",
       "      <th>0</th>\n",
       "      <td>128381</td>\n",
       "      <td>control</td>\n",
       "      <td>[3644 4529 4704 5294 4808]</td>\n",
       "      <td>1654030803</td>\n",
       "      <td>39</td>\n",
       "    </tr>\n",
       "    <tr>\n",
       "      <th>1</th>\n",
       "      <td>146885</td>\n",
       "      <td>test</td>\n",
       "      <td>[1399 1076  797 7015 5942]</td>\n",
       "      <td>1654030811</td>\n",
       "      <td>37</td>\n",
       "    </tr>\n",
       "    <tr>\n",
       "      <th>2</th>\n",
       "      <td>50948</td>\n",
       "      <td>test</td>\n",
       "      <td>[2315 3037 1861 6567 4093]</td>\n",
       "      <td>1654030825</td>\n",
       "      <td>56</td>\n",
       "    </tr>\n",
       "    <tr>\n",
       "      <th>3</th>\n",
       "      <td>37703</td>\n",
       "      <td>test</td>\n",
       "      <td>[2842 1949  162 1588 6794]</td>\n",
       "      <td>1654030826</td>\n",
       "      <td>95</td>\n",
       "    </tr>\n",
       "    <tr>\n",
       "      <th>4</th>\n",
       "      <td>14661</td>\n",
       "      <td>test</td>\n",
       "      <td>[2395 5881 5648 3417  673]</td>\n",
       "      <td>1654030829</td>\n",
       "      <td>10</td>\n",
       "    </tr>\n",
       "  </tbody>\n",
       "</table>\n",
       "</div>"
      ],
      "text/plain": [
       "   user_id exp_group             recommendations   timestamp  bucket\n",
       "0   128381   control  [3644 4529 4704 5294 4808]  1654030803      39\n",
       "1   146885      test  [1399 1076  797 7015 5942]  1654030811      37\n",
       "2    50948      test  [2315 3037 1861 6567 4093]  1654030825      56\n",
       "3    37703      test  [2842 1949  162 1588 6794]  1654030826      95\n",
       "4    14661      test  [2395 5881 5648 3417  673]  1654030829      10"
      ]
     },
     "execution_count": 30,
     "metadata": {},
     "output_type": "execute_result"
    }
   ],
   "source": [
    "salt = '100buckets_split'\n",
    "\n",
    "views['bucket'] = views['user_id'].apply(lambda x: int(hashlib.md5((str(x) + salt).encode()).hexdigest(), 16) % 100)\n",
    "\n",
    "views.head()"
   ]
  },
  {
   "cell_type": "markdown",
   "id": "048a0d19",
   "metadata": {},
   "source": [
    "Теперь создадим для дальнейшего удобства таблицу `user_id` - бакет"
   ]
  },
  {
   "cell_type": "code",
   "execution_count": 31,
   "id": "84c69d9c",
   "metadata": {},
   "outputs": [
    {
     "data": {
      "text/html": [
       "<div>\n",
       "<style scoped>\n",
       "    .dataframe tbody tr th:only-of-type {\n",
       "        vertical-align: middle;\n",
       "    }\n",
       "\n",
       "    .dataframe tbody tr th {\n",
       "        vertical-align: top;\n",
       "    }\n",
       "\n",
       "    .dataframe thead th {\n",
       "        text-align: right;\n",
       "    }\n",
       "</style>\n",
       "<table border=\"1\" class=\"dataframe\">\n",
       "  <thead>\n",
       "    <tr style=\"text-align: right;\">\n",
       "      <th></th>\n",
       "      <th>user_id</th>\n",
       "      <th>bucket</th>\n",
       "    </tr>\n",
       "  </thead>\n",
       "  <tbody>\n",
       "    <tr>\n",
       "      <th>0</th>\n",
       "      <td>128381</td>\n",
       "      <td>39</td>\n",
       "    </tr>\n",
       "    <tr>\n",
       "      <th>1</th>\n",
       "      <td>146885</td>\n",
       "      <td>37</td>\n",
       "    </tr>\n",
       "    <tr>\n",
       "      <th>2</th>\n",
       "      <td>50948</td>\n",
       "      <td>56</td>\n",
       "    </tr>\n",
       "    <tr>\n",
       "      <th>3</th>\n",
       "      <td>37703</td>\n",
       "      <td>95</td>\n",
       "    </tr>\n",
       "    <tr>\n",
       "      <th>4</th>\n",
       "      <td>14661</td>\n",
       "      <td>10</td>\n",
       "    </tr>\n",
       "  </tbody>\n",
       "</table>\n",
       "</div>"
      ],
      "text/plain": [
       "   user_id  bucket\n",
       "0   128381      39\n",
       "1   146885      37\n",
       "2    50948      56\n",
       "3    37703      95\n",
       "4    14661      10"
      ]
     },
     "execution_count": 31,
     "metadata": {},
     "output_type": "execute_result"
    }
   ],
   "source": [
    "user_bucket = views[['user_id', 'bucket']].drop_duplicates()\n",
    "\n",
    "user_bucket.head()"
   ]
  },
  {
   "cell_type": "markdown",
   "id": "cc94640c",
   "metadata": {},
   "source": [
    "Проверим, насколько равномерным получилось разделение"
   ]
  },
  {
   "cell_type": "code",
   "execution_count": 32,
   "id": "1c543581",
   "metadata": {},
   "outputs": [
    {
     "data": {
      "text/plain": [
       "<AxesSubplot:>"
      ]
     },
     "execution_count": 32,
     "metadata": {},
     "output_type": "execute_result"
    },
    {
     "data": {
      "image/png": "[encoded data removed]",
      "text/plain": [
       "<Figure size 432x288 with 1 Axes>"
      ]
     },
     "metadata": {
      "needs_background": "light"
     },
     "output_type": "display_data"
    }
   ],
   "source": [
    "user_bucket['bucket'].hist()"
   ]
  },
  {
   "cell_type": "markdown",
   "id": "fe1d44cc",
   "metadata": {},
   "source": [
    "Видим, что пользователи достаточно равномерно распределены по бакетам.\n",
    "\n",
    "Теперь добавим к полученной на прошлом этапе таблице `final` информацию о бакетах"
   ]
  },
  {
   "cell_type": "code",
   "execution_count": 33,
   "id": "f31c0a8d",
   "metadata": {},
   "outputs": [
    {
     "data": {
      "text/html": [
       "<div>\n",
       "<style scoped>\n",
       "    .dataframe tbody tr th:only-of-type {\n",
       "        vertical-align: middle;\n",
       "    }\n",
       "\n",
       "    .dataframe tbody tr th {\n",
       "        vertical-align: top;\n",
       "    }\n",
       "\n",
       "    .dataframe thead th {\n",
       "        text-align: right;\n",
       "    }\n",
       "</style>\n",
       "<table border=\"1\" class=\"dataframe\">\n",
       "  <thead>\n",
       "    <tr style=\"text-align: right;\">\n",
       "      <th></th>\n",
       "      <th>user_id</th>\n",
       "      <th>exp_group</th>\n",
       "      <th>recommendations</th>\n",
       "      <th>num_likes</th>\n",
       "      <th>bucket</th>\n",
       "    </tr>\n",
       "  </thead>\n",
       "  <tbody>\n",
       "    <tr>\n",
       "      <th>0</th>\n",
       "      <td>200</td>\n",
       "      <td>test</td>\n",
       "      <td>['5559', '5510', '4127', '5135', '1563']</td>\n",
       "      <td>1</td>\n",
       "      <td>59</td>\n",
       "    </tr>\n",
       "    <tr>\n",
       "      <th>1</th>\n",
       "      <td>201</td>\n",
       "      <td>test</td>\n",
       "      <td>['4962', '6881', '2631', '643', '6168']</td>\n",
       "      <td>2</td>\n",
       "      <td>5</td>\n",
       "    </tr>\n",
       "    <tr>\n",
       "      <th>2</th>\n",
       "      <td>201</td>\n",
       "      <td>test</td>\n",
       "      <td>['6167', '1905', '1134', '3401', '6068']</td>\n",
       "      <td>1</td>\n",
       "      <td>5</td>\n",
       "    </tr>\n",
       "    <tr>\n",
       "      <th>3</th>\n",
       "      <td>202</td>\n",
       "      <td>test</td>\n",
       "      <td>['727', '4873', '353', '1144', '1437']</td>\n",
       "      <td>2</td>\n",
       "      <td>56</td>\n",
       "    </tr>\n",
       "    <tr>\n",
       "      <th>4</th>\n",
       "      <td>212</td>\n",
       "      <td>test</td>\n",
       "      <td>['1707', '1264', '6486', '7268', '4541']</td>\n",
       "      <td>1</td>\n",
       "      <td>74</td>\n",
       "    </tr>\n",
       "  </tbody>\n",
       "</table>\n",
       "</div>"
      ],
      "text/plain": [
       "   user_id exp_group                           recommendations  num_likes  \\\n",
       "0      200      test  ['5559', '5510', '4127', '5135', '1563']          1   \n",
       "1      201      test   ['4962', '6881', '2631', '643', '6168']          2   \n",
       "2      201      test  ['6167', '1905', '1134', '3401', '6068']          1   \n",
       "3      202      test    ['727', '4873', '353', '1144', '1437']          2   \n",
       "4      212      test  ['1707', '1264', '6486', '7268', '4541']          1   \n",
       "\n",
       "   bucket  \n",
       "0      59  \n",
       "1       5  \n",
       "2       5  \n",
       "3      56  \n",
       "4      74  "
      ]
     },
     "execution_count": 33,
     "metadata": {},
     "output_type": "execute_result"
    }
   ],
   "source": [
    "final = final.merge(user_bucket, on='user_id')\n",
    "\n",
    "final.head()"
   ]
  },
  {
   "cell_type": "markdown",
   "id": "0d21e3ea",
   "metadata": {},
   "source": [
    "Чтобы посчитать бакетный hitrate, посчитаем общее количество рекомендаций и лайков в каждом бакете"
   ]
  },
  {
   "cell_type": "code",
   "execution_count": 34,
   "id": "06854074",
   "metadata": {},
   "outputs": [
    {
     "data": {
      "text/html": [
       "<div>\n",
       "<style scoped>\n",
       "    .dataframe tbody tr th:only-of-type {\n",
       "        vertical-align: middle;\n",
       "    }\n",
       "\n",
       "    .dataframe tbody tr th {\n",
       "        vertical-align: top;\n",
       "    }\n",
       "\n",
       "    .dataframe thead th {\n",
       "        text-align: right;\n",
       "    }\n",
       "</style>\n",
       "<table border=\"1\" class=\"dataframe\">\n",
       "  <thead>\n",
       "    <tr style=\"text-align: right;\">\n",
       "      <th></th>\n",
       "      <th>exp_group</th>\n",
       "      <th>bucket</th>\n",
       "      <th>views</th>\n",
       "    </tr>\n",
       "  </thead>\n",
       "  <tbody>\n",
       "    <tr>\n",
       "      <th>0</th>\n",
       "      <td>control</td>\n",
       "      <td>0</td>\n",
       "      <td>1073</td>\n",
       "    </tr>\n",
       "    <tr>\n",
       "      <th>1</th>\n",
       "      <td>control</td>\n",
       "      <td>1</td>\n",
       "      <td>830</td>\n",
       "    </tr>\n",
       "    <tr>\n",
       "      <th>2</th>\n",
       "      <td>control</td>\n",
       "      <td>2</td>\n",
       "      <td>994</td>\n",
       "    </tr>\n",
       "    <tr>\n",
       "      <th>3</th>\n",
       "      <td>control</td>\n",
       "      <td>3</td>\n",
       "      <td>884</td>\n",
       "    </tr>\n",
       "    <tr>\n",
       "      <th>4</th>\n",
       "      <td>control</td>\n",
       "      <td>4</td>\n",
       "      <td>1028</td>\n",
       "    </tr>\n",
       "  </tbody>\n",
       "</table>\n",
       "</div>"
      ],
      "text/plain": [
       "  exp_group  bucket  views\n",
       "0   control       0   1073\n",
       "1   control       1    830\n",
       "2   control       2    994\n",
       "3   control       3    884\n",
       "4   control       4   1028"
      ]
     },
     "execution_count": 34,
     "metadata": {},
     "output_type": "execute_result"
    }
   ],
   "source": [
    "views_num = views.groupby(['exp_group', 'bucket'])['recommendations'].count().reset_index(name='views')\n",
    "views_num.head()"
   ]
  },
  {
   "cell_type": "code",
   "execution_count": 35,
   "id": "f19fa2f8",
   "metadata": {},
   "outputs": [
    {
     "data": {
      "text/html": [
       "<div>\n",
       "<style scoped>\n",
       "    .dataframe tbody tr th:only-of-type {\n",
       "        vertical-align: middle;\n",
       "    }\n",
       "\n",
       "    .dataframe tbody tr th {\n",
       "        vertical-align: top;\n",
       "    }\n",
       "\n",
       "    .dataframe thead th {\n",
       "        text-align: right;\n",
       "    }\n",
       "</style>\n",
       "<table border=\"1\" class=\"dataframe\">\n",
       "  <thead>\n",
       "    <tr style=\"text-align: right;\">\n",
       "      <th></th>\n",
       "      <th>exp_group</th>\n",
       "      <th>bucket</th>\n",
       "      <th>likes</th>\n",
       "    </tr>\n",
       "  </thead>\n",
       "  <tbody>\n",
       "    <tr>\n",
       "      <th>0</th>\n",
       "      <td>control</td>\n",
       "      <td>0</td>\n",
       "      <td>758</td>\n",
       "    </tr>\n",
       "    <tr>\n",
       "      <th>1</th>\n",
       "      <td>control</td>\n",
       "      <td>1</td>\n",
       "      <td>597</td>\n",
       "    </tr>\n",
       "    <tr>\n",
       "      <th>2</th>\n",
       "      <td>control</td>\n",
       "      <td>2</td>\n",
       "      <td>719</td>\n",
       "    </tr>\n",
       "    <tr>\n",
       "      <th>3</th>\n",
       "      <td>control</td>\n",
       "      <td>3</td>\n",
       "      <td>621</td>\n",
       "    </tr>\n",
       "    <tr>\n",
       "      <th>4</th>\n",
       "      <td>control</td>\n",
       "      <td>4</td>\n",
       "      <td>698</td>\n",
       "    </tr>\n",
       "  </tbody>\n",
       "</table>\n",
       "</div>"
      ],
      "text/plain": [
       "  exp_group  bucket  likes\n",
       "0   control       0    758\n",
       "1   control       1    597\n",
       "2   control       2    719\n",
       "3   control       3    621\n",
       "4   control       4    698"
      ]
     },
     "execution_count": 35,
     "metadata": {},
     "output_type": "execute_result"
    }
   ],
   "source": [
    "likes_num = final.groupby(['exp_group', 'bucket'])['num_likes'].count().reset_index(name='likes')\n",
    "likes_num.head()"
   ]
  },
  {
   "cell_type": "markdown",
   "id": "a32f3dc2",
   "metadata": {},
   "source": [
    "Объединим эти две таблицы и посчитаем hitrate каждого бакета"
   ]
  },
  {
   "cell_type": "code",
   "execution_count": 36,
   "id": "25381e55",
   "metadata": {},
   "outputs": [
    {
     "data": {
      "text/html": [
       "<div>\n",
       "<style scoped>\n",
       "    .dataframe tbody tr th:only-of-type {\n",
       "        vertical-align: middle;\n",
       "    }\n",
       "\n",
       "    .dataframe tbody tr th {\n",
       "        vertical-align: top;\n",
       "    }\n",
       "\n",
       "    .dataframe thead th {\n",
       "        text-align: right;\n",
       "    }\n",
       "</style>\n",
       "<table border=\"1\" class=\"dataframe\">\n",
       "  <thead>\n",
       "    <tr style=\"text-align: right;\">\n",
       "      <th></th>\n",
       "      <th>exp_group</th>\n",
       "      <th>bucket</th>\n",
       "      <th>views</th>\n",
       "      <th>likes</th>\n",
       "      <th>hitrate</th>\n",
       "    </tr>\n",
       "  </thead>\n",
       "  <tbody>\n",
       "    <tr>\n",
       "      <th>0</th>\n",
       "      <td>control</td>\n",
       "      <td>0</td>\n",
       "      <td>1073</td>\n",
       "      <td>758</td>\n",
       "      <td>0.706431</td>\n",
       "    </tr>\n",
       "    <tr>\n",
       "      <th>1</th>\n",
       "      <td>control</td>\n",
       "      <td>1</td>\n",
       "      <td>830</td>\n",
       "      <td>597</td>\n",
       "      <td>0.719277</td>\n",
       "    </tr>\n",
       "    <tr>\n",
       "      <th>2</th>\n",
       "      <td>control</td>\n",
       "      <td>2</td>\n",
       "      <td>994</td>\n",
       "      <td>719</td>\n",
       "      <td>0.723340</td>\n",
       "    </tr>\n",
       "    <tr>\n",
       "      <th>3</th>\n",
       "      <td>control</td>\n",
       "      <td>3</td>\n",
       "      <td>884</td>\n",
       "      <td>621</td>\n",
       "      <td>0.702489</td>\n",
       "    </tr>\n",
       "    <tr>\n",
       "      <th>4</th>\n",
       "      <td>control</td>\n",
       "      <td>4</td>\n",
       "      <td>1028</td>\n",
       "      <td>698</td>\n",
       "      <td>0.678988</td>\n",
       "    </tr>\n",
       "  </tbody>\n",
       "</table>\n",
       "</div>"
      ],
      "text/plain": [
       "  exp_group  bucket  views  likes   hitrate\n",
       "0   control       0   1073    758  0.706431\n",
       "1   control       1    830    597  0.719277\n",
       "2   control       2    994    719  0.723340\n",
       "3   control       3    884    621  0.702489\n",
       "4   control       4   1028    698  0.678988"
      ]
     },
     "execution_count": 36,
     "metadata": {},
     "output_type": "execute_result"
    }
   ],
   "source": [
    "hitrates = views_num.merge(likes_num, on=['exp_group', 'bucket'])\n",
    "\n",
    "hitrates['hitrate'] = hitrates['likes'] / hitrates['views']\n",
    "\n",
    "hitrates.head()"
   ]
  },
  {
   "cell_type": "markdown",
   "id": "b5b2bd68",
   "metadata": {},
   "source": [
    "Наконец, применим критерий Манна-Уитни-Уилкоксона к значениям бакетных hitrate в контрольной и тестовой группе. Уровень значимости оставим равным 0.05"
   ]
  },
  {
   "cell_type": "code",
   "execution_count": 37,
   "id": "46c874d1",
   "metadata": {},
   "outputs": [
    {
     "data": {
      "text/plain": [
       "MannwhitneyuResult(statistic=2945.0, pvalue=5.168594430854752e-07)"
      ]
     },
     "execution_count": 37,
     "metadata": {},
     "output_type": "execute_result"
    }
   ],
   "source": [
    "mannwhitneyu(hitrates[hitrates['exp_group'] == 'control']['hitrate'], hitrates[hitrates['exp_group'] == 'test']['hitrate'])"
   ]
  },
  {
   "cell_type": "code",
   "execution_count": 38,
   "id": "3ad078c5",
   "metadata": {},
   "outputs": [
    {
     "data": {
      "text/plain": [
       "(0.7065945922448991, 0.7197440538465228)"
      ]
     },
     "execution_count": 38,
     "metadata": {},
     "output_type": "execute_result"
    }
   ],
   "source": [
    "hitrates[hitrates['exp_group'] == 'control']['hitrate'].mean(), hitrates[hitrates['exp_group'] == 'test']['hitrate'].mean()"
   ]
  },
  {
   "cell_type": "markdown",
   "id": "178a3014",
   "metadata": {},
   "source": [
    "## Вывод\n",
    "\n",
    "Видим, что полученное значение p-value меньше заданного уровня значимости, поэтому можем говорить, что получили статистически значимое улучшение hitrate в тестовой группе"
   ]
  }
 ],
 "metadata": {
  "kernelspec": {
   "display_name": "Python 3",
   "language": "python",
   "name": "python3"
  },
  "language_info": {
   "codemirror_mode": {
    "name": "ipython",
    "version": 3
   },
   "file_extension": ".py",
   "mimetype": "text/x-python",
   "name": "python",
   "nbconvert_exporter": "python",
   "pygments_lexer": "ipython3",
   "version": "3.8.8"
  }
 },
 "nbformat": 4,
 "nbformat_minor": 5
}
